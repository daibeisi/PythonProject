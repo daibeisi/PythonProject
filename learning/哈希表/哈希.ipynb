{
 "cells": [
  {
   "metadata": {},
   "cell_type": "markdown",
   "source": [
    "# 哈希算法\n",
    "\n",
    "哈希表（hash table），又称散列表，它通过建立键 key 与值 value 之间的映射，实现高效的元素查询。具体而言，我们向哈希表中输入一个键 key ，则可以在\n",
    "时间内获取对应的值 value 。\n",
    "\n",
    "## 哈希表简单实现\n",
    "假设我们输入的键 key 是一个整数，那么我们可以通过取模运算将整数映射到 0 到 99 之间。"
   ],
   "id": "229e95011cff9ee2"
  },
  {
   "metadata": {
    "jupyter": {
     "is_executing": true
    }
   },
   "cell_type": "code",
   "source": [
    "class Pair:\n",
    "    \"\"\"键值对\"\"\"\n",
    "\n",
    "    def __init__(self, key: int, val: str):\n",
    "        self.key = key\n",
    "        self.val = val\n",
    "\n",
    "\n",
    "class ArrayHashMap:\n",
    "    \"\"\"基于数组实现的哈希表\"\"\"\n",
    "\n",
    "    def __init__(self):\n",
    "        \"\"\"构造方法\"\"\"\n",
    "        # 初始化数组，包含 100 个桶\n",
    "        self.buckets: list[Pair | None] = [None] * 100\n",
    "\n",
    "    @staticmethod\n",
    "    def __hash_func(key: int) -> int:\n",
    "        \"\"\"哈希函数\"\"\"\n",
    "        index = key % 100\n",
    "        return index\n",
    "\n",
    "    def get(self, key: int) -> str | None:\n",
    "        \"\"\"查询操作\"\"\"\n",
    "        index: int = self.__hash_func(key)\n",
    "        pair: Pair = self.buckets[index]\n",
    "        if pair is None:\n",
    "            return None\n",
    "        return pair.val\n",
    "\n",
    "    def put(self, key: int, val: str):\n",
    "        \"\"\"添加操作\"\"\"\n",
    "        pair = Pair(key, val)\n",
    "        index: int = self.__hash_func(key)\n",
    "        self.buckets[index] = pair\n",
    "\n",
    "    def remove(self, key: int):\n",
    "        \"\"\"删除操作\"\"\"\n",
    "        index: int = self.__hash_func(key)\n",
    "        # 置为 None ，代表删除\n",
    "        self.buckets[index] = None\n",
    "\n",
    "    def items(self) -> list[tuple[int, str]]:\n",
    "        for pair in self.buckets:\n",
    "            if pair is not None:\n",
    "                yield pair.key, pair.val\n",
    "\n",
    "    def keys(self) -> list[int]:\n",
    "        \"\"\"获取所有键\"\"\"\n",
    "        result = []\n",
    "        for pair in self.buckets:\n",
    "            if pair is not None:\n",
    "                result.append(pair.key)\n",
    "        return result\n",
    "\n",
    "    def values(self) -> list[str]:\n",
    "        \"\"\"获取所有值\"\"\"\n",
    "        result = []\n",
    "        for pair in self.buckets:\n",
    "            if pair is not None:\n",
    "                result.append(pair.val)\n",
    "        return result\n",
    "\n",
    "    def print(self):\n",
    "        \"\"\"打印哈希表\"\"\"\n",
    "        for pair in self.buckets:\n",
    "            if pair is not None:\n",
    "                print(pair.key, \"->\", pair.val)"
   ],
   "id": "initial_id",
   "outputs": [],
   "execution_count": null
  },
  {
   "metadata": {},
   "cell_type": "markdown",
   "source": [
    "## 哈希冲突与扩容\n",
    "\n",
    "从本质上看，哈希函数的作用是将所有 key 构成的输入空间映射到数组所有索引构成的输出空间，而输入空间往往远大于输出空间。因此，理论上一定存在“多个输入对应相同输出”的情况。\n",
    "\n",
    "### 扩容\n",
    "\n",
    "如下图所示，两个学号指向了同一个姓名，这显然是不对的。我们将这种多个输入对应同一输出的情况称为哈希冲突（hash collision）。\n",
    "容易想到，哈希表容量越大，多个 key 被分配到同一个桶中的概率就越低，冲突就越少。因此，我们可以通过扩容哈希表来减少哈希冲突。\n",
    "\n",
    "![expand_the_capacity_of_the_hash_table](./images/expand_the_capacity_of_the_hash_table.png)\n"
   ],
   "id": "350c2608961cf5ea"
  }
 ],
 "metadata": {
  "kernelspec": {
   "display_name": "Python 3",
   "language": "python",
   "name": "python3"
  },
  "language_info": {
   "codemirror_mode": {
    "name": "ipython",
    "version": 2
   },
   "file_extension": ".py",
   "mimetype": "text/x-python",
   "name": "python",
   "nbconvert_exporter": "python",
   "pygments_lexer": "ipython2",
   "version": "2.7.6"
  }
 },
 "nbformat": 4,
 "nbformat_minor": 5
}
